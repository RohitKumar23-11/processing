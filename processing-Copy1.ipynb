{
 "cells": [
  {
   "cell_type": "code",
   "execution_count": null,
   "id": "234ee3a0",
   "metadata": {},
   "outputs": [],
   "source": [
    "import time\n",
    "file = open(r\"D:\\projects dataset\\preprocessing\\processing\\text.txt\", \"w+\") \n",
    "file.write(\"\") \n",
    "while True:\n",
    "    file.write(\"Hi\")\n",
    "    time.sleep(5)\n",
    "    file.close() "
   ]
  },
  {
   "cell_type": "code",
   "execution_count": null,
   "id": "e794dcd3",
   "metadata": {},
   "outputs": [],
   "source": [
    "import time\n",
    "filename = r\"D:\\projects dataset\\preprocessing\\processing\\test.txt\"\n",
    "file = open(filename, 'w+') # w+ is to append new lines to the file\n",
    "while True:\n",
    "    file.write(\"hi\")\n",
    "    time.sleep(1)"
   ]
  },
  {
   "cell_type": "raw",
   "id": "2555ca73",
   "metadata": {},
   "source": [
    "# moving the files\n",
    "import shutil\n",
    "def mover_of_files(location_from_to_move, location_to_move_file):\n",
    "    shutil.move(location_from_to_move, location_to_move_file)\n",
    "mover_of_files(\"location of your file which you want to move\",\"to the location you want to move to\" )"
   ]
  },
  {
   "cell_type": "code",
   "execution_count": 2,
   "id": "70a1cb80",
   "metadata": {},
   "outputs": [
    {
     "ename": "FileExistsError",
     "evalue": "[WinError 183] Cannot create a file when that file already exists: 'D:/projects dataset/preprocessing/process\\\\07_01_2022\\\\text.txt'",
     "output_type": "error",
     "traceback": [
      "\u001b[1;31m---------------------------------------------------------------------------\u001b[0m",
      "\u001b[1;31mFileExistsError\u001b[0m                           Traceback (most recent call last)",
      "\u001b[1;32m~\\AppData\\Local\\Temp/ipykernel_15708/119092580.py\u001b[0m in \u001b[0;36m<module>\u001b[1;34m\u001b[0m\n\u001b[0;32m     16\u001b[0m             \u001b[0msrc_path\u001b[0m \u001b[1;33m=\u001b[0m \u001b[0mos\u001b[0m\u001b[1;33m.\u001b[0m\u001b[0mpath\u001b[0m\u001b[1;33m.\u001b[0m\u001b[0mjoin\u001b[0m\u001b[1;33m(\u001b[0m\u001b[0msource_path\u001b[0m\u001b[1;33m,\u001b[0m \u001b[0mf\u001b[0m\u001b[1;33m)\u001b[0m\u001b[1;33m\u001b[0m\u001b[1;33m\u001b[0m\u001b[0m\n\u001b[0;32m     17\u001b[0m             \u001b[1;31m# create the folders if they arent already exists\u001b[0m\u001b[1;33m\u001b[0m\u001b[1;33m\u001b[0m\u001b[1;33m\u001b[0m\u001b[0m\n\u001b[1;32m---> 18\u001b[1;33m             \u001b[0mos\u001b[0m\u001b[1;33m.\u001b[0m\u001b[0mmakedirs\u001b[0m\u001b[1;33m(\u001b[0m\u001b[0mnew_path\u001b[0m\u001b[1;33m)\u001b[0m\u001b[1;33m\u001b[0m\u001b[1;33m\u001b[0m\u001b[0m\n\u001b[0m\u001b[0;32m     19\u001b[0m             \u001b[0mshutil\u001b[0m\u001b[1;33m.\u001b[0m\u001b[0mcopy\u001b[0m\u001b[1;33m(\u001b[0m\u001b[0msrc_path\u001b[0m\u001b[1;33m,\u001b[0m \u001b[0mnew_path\u001b[0m\u001b[1;33m)\u001b[0m\u001b[1;33m\u001b[0m\u001b[1;33m\u001b[0m\u001b[0m\n\u001b[0;32m     20\u001b[0m     \u001b[0mtime\u001b[0m\u001b[1;33m.\u001b[0m\u001b[0msleep\u001b[0m\u001b[1;33m(\u001b[0m\u001b[1;36m5\u001b[0m\u001b[1;33m)\u001b[0m\u001b[1;33m\u001b[0m\u001b[1;33m\u001b[0m\u001b[0m\n",
      "\u001b[1;32m~\\anaconda3\\lib\\os.py\u001b[0m in \u001b[0;36mmakedirs\u001b[1;34m(name, mode, exist_ok)\u001b[0m\n\u001b[0;32m    221\u001b[0m             \u001b[1;32mreturn\u001b[0m\u001b[1;33m\u001b[0m\u001b[1;33m\u001b[0m\u001b[0m\n\u001b[0;32m    222\u001b[0m     \u001b[1;32mtry\u001b[0m\u001b[1;33m:\u001b[0m\u001b[1;33m\u001b[0m\u001b[1;33m\u001b[0m\u001b[0m\n\u001b[1;32m--> 223\u001b[1;33m         \u001b[0mmkdir\u001b[0m\u001b[1;33m(\u001b[0m\u001b[0mname\u001b[0m\u001b[1;33m,\u001b[0m \u001b[0mmode\u001b[0m\u001b[1;33m)\u001b[0m\u001b[1;33m\u001b[0m\u001b[1;33m\u001b[0m\u001b[0m\n\u001b[0m\u001b[0;32m    224\u001b[0m     \u001b[1;32mexcept\u001b[0m \u001b[0mOSError\u001b[0m\u001b[1;33m:\u001b[0m\u001b[1;33m\u001b[0m\u001b[1;33m\u001b[0m\u001b[0m\n\u001b[0;32m    225\u001b[0m         \u001b[1;31m# Cannot rely on checking for EEXIST, since the operating system\u001b[0m\u001b[1;33m\u001b[0m\u001b[1;33m\u001b[0m\u001b[1;33m\u001b[0m\u001b[0m\n",
      "\u001b[1;31mFileExistsError\u001b[0m: [WinError 183] Cannot create a file when that file already exists: 'D:/projects dataset/preprocessing/process\\\\07_01_2022\\\\text.txt'"
     ]
    }
   ],
   "source": [
    "import time\n",
    "import shutil\n",
    "import os\n",
    "import datetime\n",
    "\n",
    "source_path = \"D:/projects dataset/preprocessing/processing\"\n",
    "dest_path = r\"D:\\projects dataset/preprocessing\\process\\\"\n",
    "\n",
    "while True:\n",
    "    files = os.listdir(source_path)\n",
    "    for f in files:\n",
    "        if f.endswith('.txt'):\n",
    "            # get the current date\n",
    "            date = datetime.datetime.now().strftime('%d_%m_%Y')\n",
    "            new_path = os.path.join(dest_path, date, f)\n",
    "            src_path = os.path.join(source_path, f)\n",
    "            # create the folders if they arent already exists\n",
    "            os.makedirs(new_path)\n",
    "            shutil.copy(src_path, new_path)\n",
    "    time.sleep(5)"
   ]
  },
  {
   "cell_type": "code",
   "execution_count": null,
   "id": "98968642",
   "metadata": {},
   "outputs": [],
   "source": []
  },
  {
   "cell_type": "code",
   "execution_count": 8,
   "id": "245bf90a",
   "metadata": {},
   "outputs": [
    {
     "name": "stdout",
     "output_type": "stream",
     "text": [
      "enter the file length 3\n"
     ]
    }
   ],
   "source": [
    "import time\n",
    "output = r\"D:\\projects dataset\\preprocessing\\processing\\\\\"\n",
    "num_files = int(input(\"enter the file length \"))\n",
    "for i in range(0, num_files):\n",
    "    file = open(output+\"text_\"+str(i)+'.txt','w+')\n",
    "    time.sleep(1)\n",
    "    file.close()\n",
    "    #file.close"
   ]
  },
  {
   "cell_type": "code",
   "execution_count": 11,
   "id": "318f2401",
   "metadata": {},
   "outputs": [],
   "source": [
    "import os\n",
    "import shutil\n",
    "import time\n",
    "  \n",
    "source = 'D:/projects dataset/preprocessing/processing/'\n",
    "destination = 'D:/projects dataset/preprocessing/process/'\n",
    "  \n",
    "allfiles = os.listdir(source)\n",
    "  \n",
    "for f in allfiles:\n",
    "    shutil.move(source + f, destination + f)\n",
    "    time.sleep(5)"
   ]
  },
  {
   "cell_type": "code",
   "execution_count": 8,
   "id": "5dc15f32",
   "metadata": {},
   "outputs": [],
   "source": [
    "que = r\"d:\\projects dataset\\preprocessing\\queue\\\\\"\n",
    "for i in allfiles"
   ]
  },
  {
   "cell_type": "code",
   "execution_count": null,
   "id": "43157ff0",
   "metadata": {},
   "outputs": [],
   "source": []
  }
 ],
 "metadata": {
  "kernelspec": {
   "display_name": "Python 3 (ipykernel)",
   "language": "python",
   "name": "python3"
  },
  "language_info": {
   "codemirror_mode": {
    "name": "ipython",
    "version": 3
   },
   "file_extension": ".py",
   "mimetype": "text/x-python",
   "name": "python",
   "nbconvert_exporter": "python",
   "pygments_lexer": "ipython3",
   "version": "3.8.3"
  }
 },
 "nbformat": 4,
 "nbformat_minor": 5
}
