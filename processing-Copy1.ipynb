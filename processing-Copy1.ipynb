{
 "cells": [
  {
   "cell_type": "code",
   "execution_count": null,
   "id": "98968642",
   "metadata": {},
   "outputs": [],
   "source": []
  },
  {
   "cell_type": "code",
   "execution_count": 1,
   "id": "245bf90a",
   "metadata": {},
   "outputs": [
    {
     "name": "stdout",
     "output_type": "stream",
     "text": [
      "enter the file length 3\n"
     ]
    }
   ],
   "source": [
    "import time\n",
    "output = r\"D:\\projects dataset\\preprocessing\\processing\\\\\"\n",
    "num_files = int(input(\"enter the file length \"))\n",
    "for i in range(0, num_files):\n",
    "    file = open(output+\"text_\"+str(i)+'.txt','w+')\n",
    "    time.sleep(1)\n",
    "    file.close()\n",
    "    #file.close"
   ]
  },
  {
   "cell_type": "code",
   "execution_count": 2,
   "id": "318f2401",
   "metadata": {},
   "outputs": [],
   "source": [
    "import os\n",
    "import shutil\n",
    "import time\n",
    "  \n",
    "source = 'D:/projects dataset/preprocessing/processing/'\n",
    "destination = 'D:/projects dataset/preprocessing/process/'\n",
    "  \n",
    "allfiles = os.listdir(source)\n",
    "  \n",
    "for f in allfiles:\n",
    "    shutil.move(source + f, destination + f)\n",
    "    time.sleep(5)"
   ]
  },
  {
   "cell_type": "code",
   "execution_count": null,
   "id": "c9cc1869",
   "metadata": {},
   "outputs": [],
   "source": []
  },
  {
   "cell_type": "code",
   "execution_count": null,
   "id": "43157ff0",
   "metadata": {},
   "outputs": [],
   "source": []
  }
 ],
 "metadata": {
  "kernelspec": {
   "display_name": "Python 3 (ipykernel)",
   "language": "python",
   "name": "python3"
  },
  "language_info": {
   "codemirror_mode": {
    "name": "ipython",
    "version": 3
   },
   "file_extension": ".py",
   "mimetype": "text/x-python",
   "name": "python",
   "nbconvert_exporter": "python",
   "pygments_lexer": "ipython3",
   "version": "3.8.3"
  }
 },
 "nbformat": 4,
 "nbformat_minor": 5
}
